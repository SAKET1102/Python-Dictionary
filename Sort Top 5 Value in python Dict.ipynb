{
 "cells": [
  {
   "cell_type": "code",
   "execution_count": 1,
   "metadata": {},
   "outputs": [
    {
     "name": "stdout",
     "output_type": "stream",
     "text": [
      "{'humor': 8, 'fiction': 8, 'novel': 8, 'telugu': 8, 'Russian': 8, 'French': 8, 'linux': 8, 'money': 8, 'paper': 1, 'onlineclas': 1, 'essaypay': 1, 'physics': 2, 'economic': 1, 'math': 1, 'essaywriting': 1, 'essayh': 1, 'tkinter': 2, 'codenewt': 1, 'codes': 1}\n"
     ]
    }
   ],
   "source": [
    "orig_dict = {'humor':8, 'fiction':8, 'novel':8,'telugu':8,'Russian':8,'French':8,'linux':8,'money':8,'paper':1\n",
    ",'onlineclas':1,'essaypay':1,'physics':2,'economic':1,'math':1,'essaywriting':1,'essayh':1,'tkinter':2,'codenewt':1,'codes':1}\n",
    "print(orig_dict)"
   ]
  },
  {
   "cell_type": "code",
   "execution_count": 2,
   "metadata": {},
   "outputs": [
    {
     "name": "stdout",
     "output_type": "stream",
     "text": [
      "{'humor': 8, 'fiction': 8, 'novel': 8, 'telugu': 8, 'Russian': 8}\n"
     ]
    }
   ],
   "source": [
    "top5_dict = dict(sorted(orig_dict.items(), key=lambda item: item[1], reverse=True)[:5])\n",
    "print(top5_dict)"
   ]
  },
  {
   "cell_type": "code",
   "execution_count": null,
   "metadata": {},
   "outputs": [],
   "source": []
  }
 ],
 "metadata": {
  "kernelspec": {
   "display_name": "Python 3",
   "language": "python",
   "name": "python3"
  },
  "language_info": {
   "codemirror_mode": {
    "name": "ipython",
    "version": 3
   },
   "file_extension": ".py",
   "mimetype": "text/x-python",
   "name": "python",
   "nbconvert_exporter": "python",
   "pygments_lexer": "ipython3",
   "version": "3.8.3"
  }
 },
 "nbformat": 4,
 "nbformat_minor": 4
}
